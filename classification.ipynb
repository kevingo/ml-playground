{
 "cells": [
  {
   "cell_type": "markdown",
   "metadata": {},
   "source": [
    "在這一章節中，主要要介紹分類問題。我們主要會使用 MNIST 這個資料集，裡面包含了 70,000 張手寫數字，從 0 ~ 9。"
   ]
  },
  {
   "cell_type": "markdown",
   "metadata": {},
   "source": [
    "首先，先引入必要的套件並針對 matplotlib 做基礎設定，讓我們之後在繪圖時能有一致的格式。"
   ]
  },
  {
   "cell_type": "code",
   "execution_count": 2,
   "metadata": {
    "ExecuteTime": {
     "end_time": "2019-01-22T09:03:37.337265Z",
     "start_time": "2019-01-22T09:03:35.980650Z"
    }
   },
   "outputs": [],
   "source": [
    "# To support both python 2 and python 3\n",
    "from __future__ import division, print_function, unicode_literals\n",
    "\n",
    "# Common imports\n",
    "import pandas as pd\n",
    "import numpy as np\n",
    "import os\n",
    "\n",
    "# to make this notebook's output stable across runs\n",
    "np.random.seed(42)\n",
    "\n",
    "# To plot pretty figures\n",
    "%matplotlib inline\n",
    "import matplotlib\n",
    "import matplotlib.pyplot as plt\n",
    "plt.rcParams['axes.labelsize'] = 14\n",
    "plt.rcParams['xtick.labelsize'] = 12\n",
    "plt.rcParams['ytick.labelsize'] = 12"
   ]
  },
  {
   "cell_type": "code",
   "execution_count": 3,
   "metadata": {
    "ExecuteTime": {
     "end_time": "2019-01-22T09:03:37.358897Z",
     "start_time": "2019-01-22T09:03:37.349370Z"
    }
   },
   "outputs": [],
   "source": [
    "def sort_by_target(mnist):\n",
    "    reorder_train = np.array(sorted([(target, i) for i, target in enumerate(mnist.target[:60000])]))[:, 1]\n",
    "    reorder_test = np.array(sorted([(target, i) for i, target in enumerate(mnist.target[60000:])]))[:, 1]\n",
    "    mnist.data[:60000] = mnist.data[reorder_train]\n",
    "    mnist.target[:60000] = mnist.target[reorder_train]\n",
    "    mnist.data[60000:] = mnist.data[reorder_test + 60000]\n",
    "    mnist.target[60000:] = mnist.target[reorder_test + 60000]"
   ]
  },
  {
   "cell_type": "markdown",
   "metadata": {},
   "source": [
    "scikit-learn 在 0.20 後，提供了新的 API `fetch_openml` 來下載公開資料集。"
   ]
  },
  {
   "cell_type": "code",
   "execution_count": 4,
   "metadata": {
    "ExecuteTime": {
     "end_time": "2019-01-22T09:05:07.269554Z",
     "start_time": "2019-01-22T09:03:37.362343Z"
    }
   },
   "outputs": [
    {
     "name": "stdout",
     "output_type": "stream",
     "text": [
      "start sorting...\n"
     ]
    },
    {
     "data": {
      "text/plain": [
       "(array([[0., 0., 0., ..., 0., 0., 0.],\n",
       "        [0., 0., 0., ..., 0., 0., 0.],\n",
       "        [0., 0., 0., ..., 0., 0., 0.],\n",
       "        ...,\n",
       "        [0., 0., 0., ..., 0., 0., 0.],\n",
       "        [0., 0., 0., ..., 0., 0., 0.],\n",
       "        [0., 0., 0., ..., 0., 0., 0.]]),\n",
       " array([0, 0, 0, ..., 9, 9, 9], dtype=int8))"
      ]
     },
     "execution_count": 4,
     "metadata": {},
     "output_type": "execute_result"
    }
   ],
   "source": [
    "try:\n",
    "    from sklearn.datasets import fetch_openml\n",
    "    mnist = fetch_openml('mnist_784', version=1, cache=True, data_home='~/scikit_learn_data')\n",
    "    mnist.target = mnist.target.astype(np.int8) # fetch_openml() returns targets as strings\n",
    "    print('start sorting...')\n",
    "    sort_by_target(mnist) # fetch_openml() returns an unsorted dataset\n",
    "except ImportError:\n",
    "    print('error!')\n",
    "    from sklearn.datasets import fetch_mldata\n",
    "    mnist = fetch_mldata('MNIST original')\n",
    "mnist[\"data\"], mnist[\"target\"]\n",
    "X, y = mnist[\"data\"], mnist[\"target\"]\n",
    "X, y"
   ]
  },
  {
   "cell_type": "markdown",
   "metadata": {},
   "source": [
    "我們把每個手寫圖片的標準答案透過 pandas 的 series 來看一下分佈狀況如何，可以看到每個數字的圖片數目雖然不同，但相差不遠。"
   ]
  },
  {
   "cell_type": "code",
   "execution_count": 5,
   "metadata": {
    "ExecuteTime": {
     "end_time": "2019-01-22T09:05:07.323890Z",
     "start_time": "2019-01-22T09:05:07.291887Z"
    }
   },
   "outputs": [
    {
     "data": {
      "text/plain": [
       "0    6903\n",
       "1    7877\n",
       "2    6990\n",
       "3    7141\n",
       "4    6824\n",
       "5    6313\n",
       "6    6876\n",
       "7    7293\n",
       "8    6825\n",
       "9    6958\n",
       "dtype: int64"
      ]
     },
     "execution_count": 5,
     "metadata": {},
     "output_type": "execute_result"
    }
   ],
   "source": [
    "pd.Series(y).value_counts().sort_index(axis=0)"
   ]
  },
  {
   "cell_type": "markdown",
   "metadata": {},
   "source": [
    "讓我們取出其中一個數字，透過 matplotlib 畫出來看看。注意，在這裡要先把一維的資料 `reshape` 成 28*28"
   ]
  },
  {
   "cell_type": "code",
   "execution_count": 6,
   "metadata": {
    "ExecuteTime": {
     "end_time": "2019-01-22T09:05:07.492181Z",
     "start_time": "2019-01-22T09:05:07.328214Z"
    }
   },
   "outputs": [
    {
     "data": {
      "image/png": "[encoded data removed]",
      "text/plain": [
       "<Figure size 432x288 with 1 Axes>"
      ]
     },
     "metadata": {
      "needs_background": "light"
     },
     "output_type": "display_data"
    }
   ],
   "source": [
    "%matplotlib inline\n",
    "import matplotlib\n",
    "import matplotlib.pyplot as plt\n",
    "\n",
    "some_digit = X[10000]\n",
    "some_digit_image = some_digit.reshape(28, 28)\n",
    "plt.imshow(some_digit_image, cmap = matplotlib.cm.binary,\n",
    "           interpolation=\"nearest\")\n",
    "plt.axis(\"off\")\n",
    "plt.show()"
   ]
  },
  {
   "cell_type": "code",
   "execution_count": 7,
   "metadata": {
    "ExecuteTime": {
     "end_time": "2019-01-22T09:05:07.512198Z",
     "start_time": "2019-01-22T09:05:07.496626Z"
    }
   },
   "outputs": [],
   "source": [
    "# EXTRA\n",
    "def plot_digits(instances, images_per_row=10, **options):\n",
    "    size = 28\n",
    "    images_per_row = min(len(instances), images_per_row)\n",
    "    images = [instance.reshape(size,size) for instance in instances]\n",
    "    n_rows = (len(instances) - 1) // images_per_row + 1\n",
    "    row_images = []\n",
    "    n_empty = n_rows * images_per_row - len(instances)\n",
    "    images.append(np.zeros((size, size * n_empty)))\n",
    "    for row in range(n_rows):\n",
    "        rimages = images[row * images_per_row : (row + 1) * images_per_row]\n",
    "        row_images.append(np.concatenate(rimages, axis=1))\n",
    "    image = np.concatenate(row_images, axis=0)\n",
    "    plt.imshow(image, cmap = matplotlib.cm.binary, **options)\n",
    "    plt.axis(\"off\")"
   ]
  },
  {
   "cell_type": "code",
   "execution_count": 8,
   "metadata": {
    "ExecuteTime": {
     "end_time": "2019-01-22T09:05:07.714986Z",
     "start_time": "2019-01-22T09:05:07.515727Z"
    }
   },
   "outputs": [
    {
     "data": {
      "image/png": "[encoded data removed]",
      "text/plain": [
       "<Figure size 648x648 with 1 Axes>"
      ]
     },
     "metadata": {
      "needs_background": "light"
     },
     "output_type": "display_data"
    }
   ],
   "source": [
    "plt.figure(figsize=(9,9))\n",
    "example_images = np.r_[X[:12000:600], X[13000:30600:600], X[30600:60000:590]]\n",
    "plot_digits(example_images, images_per_row=10)\n",
    "plt.show()"
   ]
  },
  {
   "cell_type": "markdown",
   "metadata": {},
   "source": [
    "切 train/test 資料。前 60,000 筆是 training data，後 10,000 筆是 testing data"
   ]
  },
  {
   "cell_type": "code",
   "execution_count": 9,
   "metadata": {
    "ExecuteTime": {
     "end_time": "2019-01-22T09:05:07.725779Z",
     "start_time": "2019-01-22T09:05:07.717206Z"
    }
   },
   "outputs": [
    {
     "name": "stdout",
     "output_type": "stream",
     "text": [
      "Training data size:  60000\n",
      "Testing data size:  10000\n"
     ]
    }
   ],
   "source": [
    "X_train, X_test, y_train, y_test = X[:60000], X[60000:], y[:60000], y[60000:]\n",
    "\n",
    "print('Training data size: ', len(X_train))\n",
    "print('Testing data size: ', len(X_test))"
   ]
  },
  {
   "cell_type": "markdown",
   "metadata": {},
   "source": [
    "打亂 training data 的順序"
   ]
  },
  {
   "cell_type": "code",
   "execution_count": 10,
   "metadata": {
    "ExecuteTime": {
     "end_time": "2019-01-22T09:05:09.156686Z",
     "start_time": "2019-01-22T09:05:07.730132Z"
    }
   },
   "outputs": [
    {
     "name": "stdout",
     "output_type": "stream",
     "text": [
      "[12628 37730 39991 ...   860 15795 56422]\n"
     ]
    }
   ],
   "source": [
    "import numpy as np\n",
    "\n",
    "shuffle_index = np.random.permutation(60000)\n",
    "print(shuffle_index)\n",
    "X_train, y_train = X_train[shuffle_index], y_train[shuffle_index]"
   ]
  },
  {
   "cell_type": "code",
   "execution_count": 11,
   "metadata": {
    "ExecuteTime": {
     "end_time": "2019-01-22T09:05:09.167066Z",
     "start_time": "2019-01-22T09:05:09.158830Z"
    }
   },
   "outputs": [
    {
     "data": {
      "text/plain": [
       "0    5923\n",
       "1    6742\n",
       "2    5958\n",
       "3    6131\n",
       "4    5842\n",
       "5    5421\n",
       "6    5918\n",
       "7    6265\n",
       "8    5851\n",
       "9    5949\n",
       "dtype: int64"
      ]
     },
     "execution_count": 11,
     "metadata": {},
     "output_type": "execute_result"
    }
   ],
   "source": [
    "# train data label distribution\n",
    "pd.Series(y_train).value_counts().sort_index(axis=0)"
   ]
  },
  {
   "cell_type": "code",
   "execution_count": 12,
   "metadata": {
    "ExecuteTime": {
     "end_time": "2019-01-22T09:05:09.178148Z",
     "start_time": "2019-01-22T09:05:09.170113Z"
    }
   },
   "outputs": [
    {
     "data": {
      "text/plain": [
       "0     980\n",
       "1    1135\n",
       "2    1032\n",
       "3    1010\n",
       "4     982\n",
       "5     892\n",
       "6     958\n",
       "7    1028\n",
       "8     974\n",
       "9    1009\n",
       "dtype: int64"
      ]
     },
     "execution_count": 12,
     "metadata": {},
     "output_type": "execute_result"
    }
   ],
   "source": [
    "# test data distribution\n",
    "pd.Series(y_test).value_counts().sort_index(axis=0)"
   ]
  },
  {
   "cell_type": "markdown",
   "metadata": {},
   "source": [
    "## Binary Classification\n",
    "\n",
    "這裡我們來練習 Binary Classification。讓我們訓練一個分類器，用來辨識 mnist 的圖片是不是 5。先把 training 和 testing 的 y label 都改成 true/false。true 代表是 5，false 代表非 5"
   ]
  },
  {
   "cell_type": "code",
   "execution_count": 13,
   "metadata": {
    "ExecuteTime": {
     "end_time": "2019-01-22T09:05:09.185316Z",
     "start_time": "2019-01-22T09:05:09.181093Z"
    }
   },
   "outputs": [],
   "source": [
    "y_train_5 = (y_train == 5)\n",
    "y_test_5 = (y_test == 5)"
   ]
  },
  {
   "cell_type": "code",
   "execution_count": 14,
   "metadata": {
    "ExecuteTime": {
     "end_time": "2019-01-22T09:05:09.708566Z",
     "start_time": "2019-01-22T09:05:09.188191Z"
    }
   },
   "outputs": [
    {
     "data": {
      "text/plain": [
       "SGDClassifier(alpha=0.0001, average=False, class_weight=None,\n",
       "       early_stopping=False, epsilon=0.1, eta0=0.0, fit_intercept=True,\n",
       "       l1_ratio=0.15, learning_rate='optimal', loss='hinge', max_iter=5,\n",
       "       n_iter=None, n_iter_no_change=5, n_jobs=None, penalty='l2',\n",
       "       power_t=0.5, random_state=42, shuffle=True, tol=-inf,\n",
       "       validation_fraction=0.1, verbose=0, warm_start=False)"
      ]
     },
     "execution_count": 14,
     "metadata": {},
     "output_type": "execute_result"
    }
   ],
   "source": [
    "from sklearn.linear_model import SGDClassifier\n",
    "from sklearn.linear_model import LogisticRegression\n",
    "\n",
    "sgd_clf = SGDClassifier(max_iter=5, tol=-np.infty, random_state=42)\n",
    "sgd_clf.fit(X_train, y_train_5)"
   ]
  },
  {
   "cell_type": "code",
   "execution_count": 15,
   "metadata": {
    "ExecuteTime": {
     "end_time": "2019-01-22T09:05:09.718475Z",
     "start_time": "2019-01-22T09:05:09.711816Z"
    }
   },
   "outputs": [
    {
     "data": {
      "text/plain": [
       "array([False])"
      ]
     },
     "execution_count": 15,
     "metadata": {},
     "output_type": "execute_result"
    }
   ],
   "source": [
    "some_digit = X[0]\n",
    "\n",
    "# predict some_digit by SGDClassifier trained in the previous step\n",
    "sgd_result = sgd_clf.predict([some_digit])\n",
    "sgd_result"
   ]
  },
  {
   "cell_type": "markdown",
   "metadata": {},
   "source": [
    "sklearn 提供了 cross validation 的函式 cross_val_score，這裡我們用 cv=3，也就是 3-fold cross-validation。"
   ]
  },
  {
   "cell_type": "code",
   "execution_count": 16,
   "metadata": {
    "ExecuteTime": {
     "end_time": "2019-01-22T09:05:11.187148Z",
     "start_time": "2019-01-22T09:05:09.721260Z"
    }
   },
   "outputs": [
    {
     "data": {
      "text/plain": [
       "array([0.9502 , 0.96565, 0.96495])"
      ]
     },
     "execution_count": 16,
     "metadata": {},
     "output_type": "execute_result"
    }
   ],
   "source": [
    "from sklearn.model_selection import cross_val_score\n",
    "sgd_cvs = cross_val_score(sgd_clf, X_train, y_train_5, cv=3, scoring=\"accuracy\")\n",
    "sgd_cvs"
   ]
  },
  {
   "cell_type": "code",
   "execution_count": 17,
   "metadata": {
    "ExecuteTime": {
     "end_time": "2019-01-22T09:05:12.790992Z",
     "start_time": "2019-01-22T09:05:11.189955Z"
    }
   },
   "outputs": [
    {
     "name": "stdout",
     "output_type": "stream",
     "text": [
      "0.9502\n",
      "0.96565\n",
      "0.96495\n"
     ]
    }
   ],
   "source": [
    "from sklearn.model_selection import StratifiedKFold\n",
    "from sklearn.base import clone\n",
    "\n",
    "skfolds = StratifiedKFold(n_splits=3, random_state=42)\n",
    "\n",
    "for train_index, test_index in skfolds.split(X_train, y_train_5):\n",
    "    clone_clf = clone(sgd_clf)\n",
    "    X_train_folds = X_train[train_index]\n",
    "    y_train_folds = (y_train_5[train_index])\n",
    "    X_test_fold = X_train[test_index]\n",
    "    y_test_fold = (y_train_5[test_index])\n",
    "\n",
    "    clone_clf.fit(X_train_folds, y_train_folds)\n",
    "    y_pred = clone_clf.predict(X_test_fold)\n",
    "    n_correct = sum(y_pred == y_test_fold)\n",
    "    print(n_correct / len(y_pred))"
   ]
  },
  {
   "cell_type": "markdown",
   "metadata": {},
   "source": [
    "儘管我們上面訓練的分類器看起來 accuracy 好像已經很高了，但是事實上這樣真的就沒問題嗎？我們建立一個分類器，這個分類器永遠不會猜 5。"
   ]
  },
  {
   "cell_type": "code",
   "execution_count": 18,
   "metadata": {
    "ExecuteTime": {
     "end_time": "2019-01-22T09:05:12.802050Z",
     "start_time": "2019-01-22T09:05:12.794552Z"
    }
   },
   "outputs": [],
   "source": [
    "from sklearn.base import BaseEstimator\n",
    "class Never5Classifier(BaseEstimator):\n",
    "    def fit(self, X, y=None):\n",
    "        pass\n",
    "    def predict(self, X):\n",
    "        return np.zeros((len(X), 1), dtype=bool)"
   ]
  },
  {
   "cell_type": "markdown",
   "metadata": {},
   "source": [
    "可以看到這個分類器的 accuracy 也是高達 90% 左右。所以並不是 SGDClassifier 的能力強，而是我們的資料的特性使然，MNIST 本來有 0~9 十類手寫數字，我們只判斷資料是不是 5，那麼標記為 5 的資料量和 “非5” 的比例就是1:9，所以即便是全部猜成是 “非5” 也可以得到90%的準確率。從這個小例子我們可以看出當樣本極其不均衡時，僅僅考慮 accuracy 是無法衡量一個分類器的好壞的。"
   ]
  },
  {
   "cell_type": "code",
   "execution_count": 19,
   "metadata": {
    "ExecuteTime": {
     "end_time": "2019-01-22T09:05:13.435604Z",
     "start_time": "2019-01-22T09:05:12.814286Z"
    }
   },
   "outputs": [
    {
     "data": {
      "text/plain": [
       "array([0.909  , 0.90715, 0.9128 ])"
      ]
     },
     "execution_count": 19,
     "metadata": {},
     "output_type": "execute_result"
    }
   ],
   "source": [
    "never_5_clf = Never5Classifier()\n",
    "cross_val_score(never_5_clf, X_train, y_train_5, cv=3, scoring=\"accuracy\")"
   ]
  },
  {
   "cell_type": "markdown",
   "metadata": {},
   "source": [
    "## 使用混淆矩陣 (Confusion Metrics) 來作為模型的衡量維度\n",
    "\n",
    "[cross_val_predict](https://scikit-learn.org/stable/modules/cross_validation.html#cross-validation) 會利用 cross-validation 的機制，把每個 fold 的預測結果回傳。"
   ]
  },
  {
   "cell_type": "code",
   "execution_count": 20,
   "metadata": {
    "ExecuteTime": {
     "end_time": "2019-01-22T09:05:15.547067Z",
     "start_time": "2019-01-22T09:05:13.440510Z"
    }
   },
   "outputs": [
    {
     "data": {
      "text/plain": [
       "array([False, False, False, ..., False, False, False])"
      ]
     },
     "execution_count": 20,
     "metadata": {},
     "output_type": "execute_result"
    }
   ],
   "source": [
    "from sklearn.model_selection import cross_val_predict\n",
    "y_train_pred = cross_val_predict(sgd_clf, X_train, y_train_5, cv=3)\n",
    "y_train_pred"
   ]
  },
  {
   "cell_type": "markdown",
   "metadata": {},
   "source": [
    "在 sklearn 使用 confusion metrics 時，只需要把標準答案 (y_train_5) 和模型預測的答案 (y_train_pred) 丟到 confusion_metrix 函式中即可。"
   ]
  },
  {
   "cell_type": "code",
   "execution_count": 21,
   "metadata": {
    "ExecuteTime": {
     "end_time": "2019-01-22T09:05:15.592304Z",
     "start_time": "2019-01-22T09:05:15.550272Z"
    }
   },
   "outputs": [
    {
     "data": {
      "text/plain": [
       "array([[53272,  1307],\n",
       "       [ 1077,  4344]])"
      ]
     },
     "execution_count": 21,
     "metadata": {},
     "output_type": "execute_result"
    }
   ],
   "source": [
    "from sklearn.metrics import confusion_matrix\n",
    "confusion_matrix(y_train_5, y_train_pred)"
   ]
  },
  {
   "cell_type": "markdown",
   "metadata": {},
   "source": [
    "讓我們來看看以下四種分類器的衡量指標。分別是：\n",
    "- accuracy\n",
    "- precision\n",
    "- recall\n",
    "- f1-score \n",
    "\n",
    "Accuracy 看的是總樣本數中 (TP + TN + FP + FN)，實際預測正確的樣本數 (TP + TN)。\n",
    "Precision 看的是每次模型預測的所有結果 (TP + FP)，有多少是正確的 (TP)。\n",
    "Recall 看的是在所有應該被模型預測為正確的集合中 (TP + FN)，有多少是正確被預測出來的 (TP)。\n",
    "F1-Score 則是 precision 和 recall 的調和平均數 (Harmonic mean)。\n",
    "\n",
    "- Accuracy = (TP + TN) / (TP + TN + FP + FN)\n",
    "- Precision = TP / (TP + FP)\n",
    "- Recall = TP / (TP + FN)\n",
    "- F1 = 2 / (1/Precision) + (1/Recall)"
   ]
  },
  {
   "cell_type": "code",
   "execution_count": 22,
   "metadata": {
    "ExecuteTime": {
     "end_time": "2019-01-22T09:05:15.640024Z",
     "start_time": "2019-01-22T09:05:15.595296Z"
    }
   },
   "outputs": [
    {
     "name": "stdout",
     "output_type": "stream",
     "text": [
      "acc: 0.960, precision: 0.769, recall: 0.801, f1-score: 0.785\n"
     ]
    }
   ],
   "source": [
    "from sklearn.metrics import precision_score, recall_score, f1_score, accuracy_score\n",
    "\n",
    "acc = accuracy_score(y_train_5, y_train_pred)\n",
    "pre = precision_score(y_train_5, y_train_pred)\n",
    "rec = recall_score(y_train_5, y_train_pred)\n",
    "f1 = f1_score(y_train_5, y_train_pred)\n",
    "\n",
    "print('acc: %.3f, precision: %.3f, recall: %.3f, f1-score: %.3f' % (acc, pre, rec, f1))"
   ]
  },
  {
   "cell_type": "markdown",
   "metadata": {},
   "source": [
    "## 觀察 precison/recall 與 threshold curve"
   ]
  },
  {
   "cell_type": "markdown",
   "metadata": {},
   "source": [
    "為了得到 precision/recall 對 threshold 的關係，我們可以再次利用 `cross_val_predict` 函式，只是這次我們指定 `method=\"decision_function\"` 來得到決策的分數，而不是預測值。\n",
    "\n",
    "關於 method 可以傳入的值，可以參考 cross_val_predict 的原始碼：[https://github.com/scikit-learn/scikit-learn/blob/master/sklearn/model_selection/_validation.py#L756](https://github.com/scikit-learn/scikit-learn/blob/master/sklearn/model_selection/_validation.py#L756)，可以有 `'decision_function', 'predict_proba', 'predict_log_proba'` 等。這之間當然有差別，但我們在這裡並不贅述。\n",
    "\n"
   ]
  },
  {
   "cell_type": "code",
   "execution_count": 23,
   "metadata": {
    "ExecuteTime": {
     "end_time": "2019-01-22T09:05:18.177964Z",
     "start_time": "2019-01-22T09:05:15.642983Z"
    }
   },
   "outputs": [
    {
     "data": {
      "text/plain": [
       "array([ -434076.49813641, -1825667.15281624,  -767086.76186905, ...,\n",
       "        -867191.25267994,  -565357.11420164,  -366599.16018198])"
      ]
     },
     "execution_count": 23,
     "metadata": {},
     "output_type": "execute_result"
    }
   ],
   "source": [
    "# cross_val_predict return predict results\n",
    "y_scores = cross_val_predict(sgd_clf, X_train, y_train_5, cv=3,\n",
    "                             method=\"decision_function\")\n",
    "y_scores"
   ]
  },
  {
   "cell_type": "code",
   "execution_count": 24,
   "metadata": {
    "ExecuteTime": {
     "end_time": "2019-01-22T09:05:18.204102Z",
     "start_time": "2019-01-22T09:05:18.181335Z"
    }
   },
   "outputs": [
    {
     "name": "stdout",
     "output_type": "stream",
     "text": [
      "[0.09080706 0.09079183 0.09079335 ... 1.         1.         1.        ] [1.00000000e+00 9.99815532e-01 9.99815532e-01 ... 3.68935621e-04\n",
      " 1.84467810e-04 0.00000000e+00] [-1613405.71147769 -1612415.64410228 -1611701.37464018 ...\n",
      "   954170.04762499   987947.69103863  1002862.09359785]\n"
     ]
    }
   ],
   "source": [
    "from sklearn.metrics import precision_recall_curve\n",
    "\n",
    "precisions, recalls, thresholds = precision_recall_curve(y_train_5, y_scores)\n",
    "print(precisions, recalls, thresholds)"
   ]
  },
  {
   "cell_type": "code",
   "execution_count": 25,
   "metadata": {
    "ExecuteTime": {
     "end_time": "2019-01-22T09:05:18.731749Z",
     "start_time": "2019-01-22T09:05:18.208029Z"
    }
   },
   "outputs": [
    {
     "data": {
      "image/png": "[encoded data removed]",
      "text/plain": [
       "<Figure size 576x288 with 1 Axes>"
      ]
     },
     "metadata": {
      "needs_background": "light"
     },
     "output_type": "display_data"
    }
   ],
   "source": [
    "def plot_precision_recall_vs_threshold(precisions, recalls, thresholds):\n",
    "    plt.plot(thresholds, precisions[:-1], \"b--\", label=\"Precision\", linewidth=2)\n",
    "    plt.plot(thresholds, recalls[:-1], \"g-\", label=\"Recall\", linewidth=2)\n",
    "    plt.xlabel(\"Threshold\", fontsize=14)\n",
    "    plt.legend(loc=\"upper left\", fontsize=14)\n",
    "    plt.ylim([0, 1])\n",
    "\n",
    "plt.figure(figsize=(8, 4))\n",
    "plot_precision_recall_vs_threshold(precisions, recalls, thresholds)\n",
    "plt.xlim([-1000000, 1000000])\n",
    "plt.show()"
   ]
  },
  {
   "cell_type": "markdown",
   "metadata": {},
   "source": [
    "## 觀察 precision-recall curve"
   ]
  },
  {
   "cell_type": "code",
   "execution_count": 26,
   "metadata": {
    "ExecuteTime": {
     "end_time": "2019-01-22T09:05:18.917548Z",
     "start_time": "2019-01-22T09:05:18.736016Z"
    }
   },
   "outputs": [
    {
     "data": {
      "image/png": "[encoded data removed]",
      "text/plain": [
       "<Figure size 576x432 with 1 Axes>"
      ]
     },
     "metadata": {
      "needs_background": "light"
     },
     "output_type": "display_data"
    }
   ],
   "source": [
    "def plot_precision_vs_recall(precisions, recalls):\n",
    "    plt.plot(recalls, precisions, \"b-\", linewidth=2)\n",
    "    plt.xlabel(\"Recall\", fontsize=16)\n",
    "    plt.ylabel(\"Precision\", fontsize=16)\n",
    "    plt.axis([0, 1, 0, 1])\n",
    "\n",
    "plt.figure(figsize=(8, 6))\n",
    "plot_precision_vs_recall(precisions, recalls)\n",
    "plt.show()"
   ]
  },
  {
   "cell_type": "markdown",
   "metadata": {},
   "source": [
    "## ROC Curve"
   ]
  },
  {
   "cell_type": "code",
   "execution_count": 27,
   "metadata": {
    "ExecuteTime": {
     "end_time": "2019-01-22T09:05:18.940772Z",
     "start_time": "2019-01-22T09:05:18.921835Z"
    }
   },
   "outputs": [
    {
     "data": {
      "text/plain": [
       "(array([0.        , 0.        , 0.        , ..., 0.99446674, 0.99446674,\n",
       "        1.        ]),\n",
       " array([0.00000000e+00, 1.84467810e-04, 3.87382402e-03, ...,\n",
       "        9.99815532e-01, 1.00000000e+00, 1.00000000e+00]),\n",
       " array([ 1002863.09359785,  1002862.09359785,   788024.40783823, ...,\n",
       "        -1612415.64410228, -1613405.71147769, -2922518.84137436]))"
      ]
     },
     "execution_count": 27,
     "metadata": {},
     "output_type": "execute_result"
    }
   ],
   "source": [
    "from sklearn.metrics import roc_curve\n",
    "\n",
    "fpr, tpr, thresholds = roc_curve(y_train_5, y_scores)\n",
    "fpr, tpr, thresholds"
   ]
  },
  {
   "cell_type": "code",
   "execution_count": 28,
   "metadata": {
    "ExecuteTime": {
     "end_time": "2019-01-22T09:05:19.553831Z",
     "start_time": "2019-01-22T09:05:18.944818Z"
    }
   },
   "outputs": [
    {
     "data": {
      "image/png": "[encoded data removed]",
      "text/plain": [
       "<Figure size 576x432 with 1 Axes>"
      ]
     },
     "metadata": {
      "needs_background": "light"
     },
     "output_type": "display_data"
    }
   ],
   "source": [
    "def plot_roc_curve(fpr, tpr, label=None):\n",
    "    plt.plot(fpr, tpr, linewidth=2, label=label)\n",
    "    plt.plot([0, 1], [0, 1], 'k--')\n",
    "    plt.axis([0, 1, 0, 1])\n",
    "    plt.xlabel('False Positive Rate', fontsize=16)\n",
    "    plt.ylabel('True Positive Rate', fontsize=16)\n",
    "\n",
    "plt.figure(figsize=(8, 6))\n",
    "plot_roc_curve(fpr, tpr)\n",
    "plt.show()"
   ]
  },
  {
   "cell_type": "markdown",
   "metadata": {},
   "source": [
    "## Multiclass classification"
   ]
  },
  {
   "cell_type": "markdown",
   "metadata": {},
   "source": [
    "現實世界中，我們比較常遇到的多分類的問題。有一些分類器本質上就是一個 binary classifier，比如說 SVM，它本質上要找到一個超平面來將兩群資料在不同的 space 上分開，但某些分類器則在本質上就是多分類器，比如說 tree-based 的 random forest。\n",
    "\n",
    "為了要讓 binary classifier 可以應用在多分類的問題上，就要來談談 \"one-vs-one\" 和 \"one-vs-all\" 這兩個概念。這兩個概念背後的原理，其實就是把一個多分類的問題，轉換成數個 binary classification 的問題。"
   ]
  },
  {
   "cell_type": "markdown",
   "metadata": {},
   "source": [
    "### one-vs-all\n",
    "\n",
    "如果我們想辨識 mnist 的 10 個手寫數字，但我們的分類演算法天生就是只能辨識兩類時，第一個做法是 one-vs-all。概念是這樣的：如果我們有 3 個類別，就訓練 3 個 binary classifier：c1, c2, c3：\n",
    "\n",
    "- c1 分類器用來區分類別 1 和其他：類別 1 當成 positive samples，其他都是 negative samples\n",
    "- c2 分類器用來區分類別 2 和其他：類別 2 當成 positive samples，其他都是 negative samples\n",
    "- c3 分類器用來區分類別 3 和其他：類別 3 當成 positive samples，其他都是 negative samples\n",
    "\n",
    "而在 inference 時，我們拿到一個沒看過的 sample，分別用 c1、c2、c3 去做 predict，得到最高 confidence score 的分類器就是該 sample 的類別。\n",
    "\n",
    "- 優點\n",
    "    - 有多少類別就訓練多少個二元分類器，直覺且容易理解\n",
    "- 缺點\n",
    "    - 容易遇到 data imbalanced 的問題，想像一下，你在每次訓練時，只挑選一個類別當成 positive，其餘都視為 negative，當類別數量多的時候，每一次的訓練 negative 的數量會遠大於 positive"
   ]
  },
  {
   "cell_type": "markdown",
   "metadata": {},
   "source": [
    "### one-vs-one\n",
    "第二種做法是 one-vs-one。概念是：針對兩兩類別訓練一個 binary classifier，如果我們有 3 個類別，就訓練 c12、c23、c13 三個 binary classifier：\n",
    "- c12 分類器用來區別類別 1 和類別 2：類別 1 當成 positive samples，類別 2 是 negative samples\n",
    "- c23 分類器用來區別類別 2 和類別 3：類別 2 當成 positive samlpes，類別 3 是 negative samples\n",
    "- c13 分類器用來區別類別 1 和類別 3：類別 1 當成 positive samlpes，類別 3 是 negative samples\n",
    "\n",
    "具體來說，如果你有 N 個類別，就要訓練 N*(N-1)/2 個分類器。所以有四個類別，就要訓練六個分類器，有五個類別，就要訓練十個分類器...依此類推。在 inference 時，一個新的 sample 就要經過所有的分類器進行預測，取預測的 score 最高的類別作為最後的答案。\n",
    "\n",
    "- 優點\n",
    "    - 兩兩訓練的分類器會比 one-vs-all 穩定，因為看的樣本數目比較平均\n",
    "- 缺點\n",
    "    - 在 inference 的時候會比 one-vs-all 來得慢，因為分類器數量較多"
   ]
  },
  {
   "cell_type": "markdown",
   "metadata": {},
   "source": [
    "在 sklearn 中，透過 OneVsOneClassifier 就可以很容易的實現 one-vs-one 的訓練方式"
   ]
  },
  {
   "cell_type": "code",
   "execution_count": 29,
   "metadata": {
    "ExecuteTime": {
     "end_time": "2019-01-22T09:05:25.981026Z",
     "start_time": "2019-01-22T09:05:19.559645Z"
    }
   },
   "outputs": [
    {
     "data": {
      "text/plain": [
       "array([0], dtype=int8)"
      ]
     },
     "execution_count": 29,
     "metadata": {},
     "output_type": "execute_result"
    }
   ],
   "source": [
    "from sklearn.multiclass import OneVsOneClassifier\n",
    "base_classifier = SGDClassifier(max_iter=5, tol=-np.infty, random_state=42)\n",
    "ovo_clf = OneVsOneClassifier(base_classifier)\n",
    "ovo_clf.fit(X_train, y_train)\n",
    "ovo_clf.predict([some_digit])"
   ]
  },
  {
   "cell_type": "markdown",
   "metadata": {},
   "source": [
    "透過 OneVsOneClassifier 的 estimators_ attribute，可以看到 one-vs-one 的分類方法使用了 10*(10-1)/2 = 45 個分類器來進行最後的預測："
   ]
  },
  {
   "cell_type": "code",
   "execution_count": 30,
   "metadata": {
    "ExecuteTime": {
     "end_time": "2019-01-22T09:05:25.993590Z",
     "start_time": "2019-01-22T09:05:25.987048Z"
    }
   },
   "outputs": [
    {
     "data": {
      "text/plain": [
       "45"
      ]
     },
     "execution_count": 30,
     "metadata": {},
     "output_type": "execute_result"
    }
   ],
   "source": [
    "len(ovo_clf.estimators_)"
   ]
  },
  {
   "cell_type": "markdown",
   "metadata": {},
   "source": [
    "而 one-vs-all 的分類器在 sklearn 中需要使用 OneVsRestClassifier："
   ]
  },
  {
   "cell_type": "code",
   "execution_count": 31,
   "metadata": {
    "ExecuteTime": {
     "end_time": "2019-01-22T09:05:30.796478Z",
     "start_time": "2019-01-22T09:05:25.998343Z"
    }
   },
   "outputs": [
    {
     "data": {
      "text/plain": [
       "array([0], dtype=int8)"
      ]
     },
     "execution_count": 31,
     "metadata": {},
     "output_type": "execute_result"
    }
   ],
   "source": [
    "from sklearn.multiclass import OneVsRestClassifier\n",
    "ova_clf = OneVsRestClassifier(base_classifier)\n",
    "ova_clf.fit(X_train, y_train)\n",
    "ova_clf.predict([some_digit])"
   ]
  },
  {
   "cell_type": "markdown",
   "metadata": {},
   "source": [
    "可以看到 one-vs-all 的分類器使用了 10 個分類器來進行預測："
   ]
  },
  {
   "cell_type": "code",
   "execution_count": 32,
   "metadata": {
    "ExecuteTime": {
     "end_time": "2019-01-22T09:05:30.805043Z",
     "start_time": "2019-01-22T09:05:30.799303Z"
    }
   },
   "outputs": [
    {
     "data": {
      "text/plain": [
       "10"
      ]
     },
     "execution_count": 32,
     "metadata": {},
     "output_type": "execute_result"
    }
   ],
   "source": [
    "len(ova_clf.estimators_)"
   ]
  },
  {
   "cell_type": "markdown",
   "metadata": {},
   "source": [
    "## 觀察分類器的分類結果"
   ]
  },
  {
   "cell_type": "markdown",
   "metadata": {},
   "source": [
    "透過 cross_val_score 可以看到我們在 cross validation 下的 accuracy 大概是 85% 左右"
   ]
  },
  {
   "cell_type": "code",
   "execution_count": 33,
   "metadata": {
    "ExecuteTime": {
     "end_time": "2019-01-22T09:05:50.261617Z",
     "start_time": "2019-01-22T09:05:30.808781Z"
    }
   },
   "outputs": [
    {
     "data": {
      "text/plain": [
       "array([0.90796841, 0.91494575, 0.91383708])"
      ]
     },
     "execution_count": 33,
     "metadata": {},
     "output_type": "execute_result"
    }
   ],
   "source": [
    "cross_val_score(ovo_clf, X_train, y_train, cv=3, scoring=\"accuracy\")"
   ]
  },
  {
   "cell_type": "markdown",
   "metadata": {},
   "source": [
    "讓我們使用 confusion matrix 來看看分類器的分類結果，一樣先使用 cross_val_predict 來產生 model predict 的結果，然後透過 confusion_matrix 來觀看結果"
   ]
  },
  {
   "cell_type": "code",
   "execution_count": 34,
   "metadata": {
    "ExecuteTime": {
     "end_time": "2019-01-22T09:06:09.089733Z",
     "start_time": "2019-01-22T09:05:50.265001Z"
    },
    "scrolled": true
   },
   "outputs": [
    {
     "data": {
      "text/plain": [
       "array([[5741,    1,   26,   11,    8,   51,   34,    6,   35,   10],\n",
       "       [   2, 6455,   61,   36,    4,   16,    4,   12,  140,   12],\n",
       "       [  41,   44, 5439,   90,   51,   31,   65,   58,  128,   11],\n",
       "       [  20,   17,  117, 5381,    1,  300,   14,   49,  184,   48],\n",
       "       [  16,   27,   43,    6, 5071,   23,   46,   38,   70,  502],\n",
       "       [  65,   13,   42,  167,   25, 4670,   83,    9,  288,   59],\n",
       "       [  45,    9,   78,    3,   29,   58, 5653,    2,   41,    0],\n",
       "       [  13,   21,   67,   53,   41,    7,    2, 5635,   32,  394],\n",
       "       [  22,   58,  111,  128,    7,  180,   33,   16, 5230,   66],\n",
       "       [  18,   33,   24,   62,   64,   27,    2,  179,   80, 5460]])"
      ]
     },
     "execution_count": 34,
     "metadata": {},
     "output_type": "execute_result"
    }
   ],
   "source": [
    "y_train_predicted = cross_val_predict(ovo_clf, X_train, y_train, cv=3)\n",
    "conf_matrix = confusion_matrix(y_train, y_train_predicted)\n",
    "conf_matrix"
   ]
  },
  {
   "cell_type": "markdown",
   "metadata": {},
   "source": [
    "我們可以用視覺化圖表來呈現 confusion matrix 的結果。我們可以用 confusion matrix 的圖形化來顯示目前分類器的效果，越深的地方代表預測的落點，這個分類器分類的效果看起來不錯，主要的預測都在對角線上，代表預測正確。\n",
    "\n",
    "而可以看到 true label 是 4，而 predict label 是 9 的格子相對其他地方的顏色稍微深一點，就代表模型在預測真的為 4 的數字上表現比較差一點，有比較多的機率會猜成 9。\n",
    "\n",
    "這也給我們進一步調整模型的方向。"
   ]
  },
  {
   "cell_type": "code",
   "execution_count": 35,
   "metadata": {
    "ExecuteTime": {
     "end_time": "2019-01-22T09:06:09.328571Z",
     "start_time": "2019-01-22T09:06:09.094166Z"
    }
   },
   "outputs": [
    {
     "data": {
      "image/png": "[encoded data removed]",
      "text/plain": [
       "<Figure size 288x288 with 1 Axes>"
      ]
     },
     "metadata": {
      "needs_background": "light"
     },
     "output_type": "display_data"
    }
   ],
   "source": [
    "plt.matshow(conf_matrix, \n",
    "            cmap=plt.cm.Blues)\n",
    "\n",
    "plt.xlabel('Predict Label')\n",
    "plt.ylabel('True Label')\n",
    "plt.show()"
   ]
  },
  {
   "cell_type": "markdown",
   "metadata": {},
   "source": [
    "進一步來看，每個類別因為數量的不同，所以單看絕對數字可能會有所偏頗，所以我們應該來看看 normalize 過後的結果。讓我們把 confusion matrix 的每一個值去除上每個類別的數量，看看正歸化之後的模型表現。\n",
    "\n",
    "我們把每一行相加，`row_sums` 代表的是每個類別的總和。接著把 confusion matrix 去除以 `row_sums`，就可以得到 normalize 過後的 matrix。"
   ]
  },
  {
   "cell_type": "code",
   "execution_count": 36,
   "metadata": {
    "ExecuteTime": {
     "end_time": "2019-01-22T09:06:09.361675Z",
     "start_time": "2019-01-22T09:06:09.352963Z"
    }
   },
   "outputs": [
    {
     "data": {
      "text/plain": [
       "array([[9.69272328e-01, 1.68833361e-04, 4.38966740e-03, 1.85716698e-03,\n",
       "        1.35066689e-03, 8.61050144e-03, 5.74033429e-03, 1.01300017e-03,\n",
       "        5.90916765e-03, 1.68833361e-03],\n",
       "       [2.96647879e-04, 9.57431029e-01, 9.04776031e-03, 5.33966182e-03,\n",
       "        5.93295758e-04, 2.37318303e-03, 5.93295758e-04, 1.77988727e-03,\n",
       "        2.07653515e-02, 1.77988727e-03],\n",
       "       [6.88150386e-03, 7.38502853e-03, 9.12890232e-01, 1.51057402e-02,\n",
       "        8.55991944e-03, 5.20308828e-03, 1.09097012e-02, 9.73481034e-03,\n",
       "        2.14837194e-02, 1.84625713e-03],\n",
       "       [3.26211059e-03, 2.77279400e-03, 1.90833469e-02, 8.77670853e-01,\n",
       "        1.63105529e-04, 4.89316588e-02, 2.28347741e-03, 7.99217093e-03,\n",
       "        3.00114174e-02, 7.82906541e-03],\n",
       "       [2.73878809e-03, 4.62170490e-03, 7.36049298e-03, 1.02704553e-03,\n",
       "        8.68024649e-01, 3.93700787e-03, 7.87401575e-03, 6.50462170e-03,\n",
       "        1.19821979e-02, 8.59294762e-02],\n",
       "       [1.19904077e-02, 2.39808153e-03, 7.74764804e-03, 3.08061243e-02,\n",
       "        4.61169526e-03, 8.61464674e-01, 1.53108283e-02, 1.66021029e-03,\n",
       "        5.31267294e-02, 1.08836008e-02],\n",
       "       [7.60392024e-03, 1.52078405e-03, 1.31801284e-02, 5.06928016e-04,\n",
       "        4.90030416e-03, 9.80060831e-03, 9.55221359e-01, 3.37952011e-04,\n",
       "        6.92801622e-03, 0.00000000e+00],\n",
       "       [2.07501995e-03, 3.35195531e-03, 1.06943336e-02, 8.45969673e-03,\n",
       "        6.54429370e-03, 1.11731844e-03, 3.19233839e-04, 8.99441341e-01,\n",
       "        5.10774142e-03, 6.28890662e-02],\n",
       "       [3.76004102e-03, 9.91283541e-03, 1.89711160e-02, 2.18766023e-02,\n",
       "        1.19637669e-03, 3.07639720e-02, 5.64006153e-03, 2.73457529e-03,\n",
       "        8.93864297e-01, 1.12801231e-02],\n",
       "       [3.02571861e-03, 5.54715078e-03, 4.03429148e-03, 1.04219197e-02,\n",
       "        1.07581106e-02, 4.53857791e-03, 3.36190956e-04, 3.00890906e-02,\n",
       "        1.34476383e-02, 9.17801311e-01]])"
      ]
     },
     "execution_count": 36,
     "metadata": {},
     "output_type": "execute_result"
    }
   ],
   "source": [
    "row_sums = conf_matrix.sum(axis=1, keepdims=True)\n",
    "norm_conf_mx = conf_matrix / row_sums\n",
    "norm_conf_mx"
   ]
  },
  {
   "cell_type": "markdown",
   "metadata": {},
   "source": [
    "在這裡有一個小技巧，因為我們想要觀察的是模型表現比較不好的是哪些類別，所以完全猜對的部分不是我們所關心的，我們透過 `fill_diagonal` 把 matrix 的對角線都設為 0，這樣我們在繪圖的時候，對角線就會呈現一致的顏色，讓我們方便觀察其他猜錯的部分的狀況為何。\n",
    "\n",
    "可以看到 `norm_conf_mx` 的 output 就是我們把對角線都設定為 0 後的結果。"
   ]
  },
  {
   "cell_type": "code",
   "execution_count": 37,
   "metadata": {
    "ExecuteTime": {
     "end_time": "2019-01-22T09:06:09.543200Z",
     "start_time": "2019-01-22T09:06:09.368725Z"
    }
   },
   "outputs": [
    {
     "data": {
      "text/plain": [
       "array([[0.        , 0.00016883, 0.00438967, 0.00185717, 0.00135067,\n",
       "        0.0086105 , 0.00574033, 0.001013  , 0.00590917, 0.00168833],\n",
       "       [0.00029665, 0.        , 0.00904776, 0.00533966, 0.0005933 ,\n",
       "        0.00237318, 0.0005933 , 0.00177989, 0.02076535, 0.00177989],\n",
       "       [0.0068815 , 0.00738503, 0.        , 0.01510574, 0.00855992,\n",
       "        0.00520309, 0.0109097 , 0.00973481, 0.02148372, 0.00184626],\n",
       "       [0.00326211, 0.00277279, 0.01908335, 0.        , 0.00016311,\n",
       "        0.04893166, 0.00228348, 0.00799217, 0.03001142, 0.00782907],\n",
       "       [0.00273879, 0.0046217 , 0.00736049, 0.00102705, 0.        ,\n",
       "        0.00393701, 0.00787402, 0.00650462, 0.0119822 , 0.08592948],\n",
       "       [0.01199041, 0.00239808, 0.00774765, 0.03080612, 0.0046117 ,\n",
       "        0.        , 0.01531083, 0.00166021, 0.05312673, 0.0108836 ],\n",
       "       [0.00760392, 0.00152078, 0.01318013, 0.00050693, 0.0049003 ,\n",
       "        0.00980061, 0.        , 0.00033795, 0.00692802, 0.        ],\n",
       "       [0.00207502, 0.00335196, 0.01069433, 0.0084597 , 0.00654429,\n",
       "        0.00111732, 0.00031923, 0.        , 0.00510774, 0.06288907],\n",
       "       [0.00376004, 0.00991284, 0.01897112, 0.0218766 , 0.00119638,\n",
       "        0.03076397, 0.00564006, 0.00273458, 0.        , 0.01128012],\n",
       "       [0.00302572, 0.00554715, 0.00403429, 0.01042192, 0.01075811,\n",
       "        0.00453858, 0.00033619, 0.03008909, 0.01344764, 0.        ]])"
      ]
     },
     "execution_count": 37,
     "metadata": {},
     "output_type": "execute_result"
    }
   ],
   "source": [
    "np.fill_diagonal(norm_conf_mx, 0)\n",
    "norm_conf_mx"
   ]
  },
  {
   "cell_type": "markdown",
   "metadata": {},
   "source": [
    "從圖上可以看到，顏色越亮的區塊，代表模型表現比較不好的地方，這就讓我們很清楚地知道哪一塊是我們要進一步去改善。"
   ]
  },
  {
   "cell_type": "code",
   "execution_count": 40,
   "metadata": {
    "ExecuteTime": {
     "end_time": "2019-01-22T09:08:53.196211Z",
     "start_time": "2019-01-22T09:08:53.027596Z"
    }
   },
   "outputs": [
    {
     "data": {
      "image/png": "[encoded data removed]",
      "text/plain": [
       "<Figure size 288x288 with 1 Axes>"
      ]
     },
     "metadata": {
      "needs_background": "light"
     },
     "output_type": "display_data"
    }
   ],
   "source": [
    "plt.matshow(norm_conf_mx, cmap=plt.cm.gray)\n",
    "plt.xlabel('Predict Label')\n",
    "plt.ylabel('True Label')\n",
    "plt.show()"
   ]
  }
 ],
 "metadata": {
  "kernelspec": {
   "display_name": "Python 3",
   "language": "python",
   "name": "python3"
  },
  "language_info": {
   "codemirror_mode": {
    "name": "ipython",
    "version": 3
   },
   "file_extension": ".py",
   "mimetype": "text/x-python",
   "name": "python",
   "nbconvert_exporter": "python",
   "pygments_lexer": "ipython3",
   "version": "3.6.7"
  }
 },
 "nbformat": 4,
 "nbformat_minor": 2
}
